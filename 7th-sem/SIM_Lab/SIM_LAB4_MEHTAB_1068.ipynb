{
  "nbformat": 4,
  "nbformat_minor": 0,
  "metadata": {
    "colab": {
      "provenance": [],
      "authorship_tag": "ABX9TyP94HsC8xh6jCYTNVN6FdUZ",
      "include_colab_link": true
    },
    "kernelspec": {
      "name": "python3",
      "display_name": "Python 3"
    },
    "language_info": {
      "name": "python"
    }
  },
  "cells": [
    {
      "cell_type": "markdown",
      "metadata": {
        "id": "view-in-github",
        "colab_type": "text"
      },
      "source": [
        "<a href=\"https://colab.research.google.com/github/Mehtabwho/CSE-Lab-Courses/blob/main/7th-sem/SIM_Lab/SIM_LAB4_MEHTAB_1068.ipynb\" target=\"_parent\"><img src=\"https://colab.research.google.com/assets/colab-badge.svg\" alt=\"Open In Colab\"/></a>"
      ]
    },
    {
      "cell_type": "code",
      "execution_count": 3,
      "metadata": {
        "colab": {
          "base_uri": "https://localhost:8080/"
        },
        "outputId": "d5274870-cc5c-4118-b909-a29ff7487ea5",
        "id": "9Moh5RY6strV"
      },
      "outputs": [
        {
          "output_type": "stream",
          "name": "stdout",
          "text": [
            "estimated pi for 1000 point is 3.196\n",
            "estimated pi for 5000 point is 3.1176\n",
            "estimated pi for 10000 point is 3.148\n"
          ]
        }
      ],
      "source": [
        "import random\n",
        "\n",
        "def estimate_pi(num_points):\n",
        "  inside = 0\n",
        "\n",
        "  for i in range(num_points):\n",
        "    x = random.random()\n",
        "    y = random.random()\n",
        "\n",
        "    if x*x + y*y <= 1:\n",
        "      inside +=1\n",
        "\n",
        "  pi = 4 * inside /num_points\n",
        "  print(\"estimated pi for\", num_points, \"point is\", pi)\n",
        "\n",
        "estimate_pi(1000)\n",
        "estimate_pi(5000)\n",
        "estimate_pi(10000)\n",
        "\n"
      ]
    },
    {
      "cell_type": "code",
      "source": [
        "import random\n",
        "import numpy as np\n",
        "import math\n",
        "import pandas as pd\n",
        "\n",
        "def estimate_pi(student_id, full_name, points_multiplier=1):\n",
        "    r = int(student_id[-2:]) / 10  # last two digits\n",
        "    base_points = sum(c.isalpha() for c in full_name) * 200\n",
        "    total_points = base_points * points_multiplier\n",
        "\n",
        "    # Half with random.uniform\n",
        "    inside = sum(\n",
        "        random.uniform(0, r)**2 + random.uniform(0, r)**2 < r**2\n",
        "        for _ in range(total_points // 2)\n",
        "    )\n",
        "\n",
        "    # Half with numpy\n",
        "    n_np = total_points - total_points // 2\n",
        "    x, y = np.random.rand(n_np) * r, np.random.rand(n_np) * r\n",
        "    inside += np.sum(x**2 + y**2 < r**2)\n",
        "\n",
        "    pi_est = 4 * inside / total_points\n",
        "    return r, total_points, inside, pi_est, abs(pi_est - math.pi)\n",
        "\n",
        "student_id = \"68\"\n",
        "full_name = \"mehtab mehjabin\"\n",
        "\n",
        "results = [estimate_pi(student_id, full_name, i) for i in range(1, 6)]\n",
        "df = pd.DataFrame(results, columns=[\"Range Used\", \"Total Points\", \"Points Inside\", \"Estimated Pi\", \"Error\"])\n",
        "print(df)\n"
      ],
      "metadata": {
        "colab": {
          "base_uri": "https://localhost:8080/"
        },
        "id": "qjovbSNbzgIc",
        "outputId": "a8000907-5607-40e9-828f-1ce90d404585"
      },
      "execution_count": 11,
      "outputs": [
        {
          "output_type": "stream",
          "name": "stdout",
          "text": [
            "   Range Used  Total Points  Points Inside  Estimated Pi     Error\n",
            "0         6.8          2800           2201      3.144286  0.002693\n",
            "1         6.8          5600           4408      3.148571  0.006979\n",
            "2         6.8          8400           6659      3.170952  0.029360\n",
            "3         6.8         11200           8820      3.150000  0.008407\n",
            "4         6.8         14000          11017      3.147714  0.006122\n"
          ]
        }
      ]
    }
  ]
}