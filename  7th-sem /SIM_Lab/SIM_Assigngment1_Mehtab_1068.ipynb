{
  "nbformat": 4,
  "nbformat_minor": 0,
  "metadata": {
    "colab": {
      "provenance": [],
      "authorship_tag": "ABX9TyMQ1yPUEMLG6BLOiPoveBBN",
      "include_colab_link": true
    },
    "kernelspec": {
      "name": "python3",
      "display_name": "Python 3"
    },
    "language_info": {
      "name": "python"
    }
  },
  "cells": [
    {
      "cell_type": "markdown",
      "metadata": {
        "id": "view-in-github",
        "colab_type": "text"
      },
      "source": [
        "<a href=\"https://colab.research.google.com/github/Mehtabwho/CSE-Lab-Courses/blob/main/%207th-sem%20/SIM_Lab/SIM_Assigngment1_Mehtab_1068.ipynb\" target=\"_parent\"><img src=\"https://colab.research.google.com/assets/colab-badge.svg\" alt=\"Open In Colab\"/></a>"
      ]
    },
    {
      "cell_type": "code",
      "execution_count": null,
      "metadata": {
        "id": "a4O59p07iln5"
      },
      "outputs": [],
      "source": []
    },
    {
      "cell_type": "code",
      "metadata": {
        "colab": {
          "base_uri": "https://localhost:8080/"
        },
        "id": "e4be1a20",
        "outputId": "52b04f34-77da-440e-b9b7-88cc33086641"
      },
      "source": [
        "import numpy as np\n",
        "\n",
        "# Define the last two digits of the student ID\n",
        "student_id_last_two_digits = 68\n",
        "\n",
        "# Generate the dataset of exam scores\n",
        "exam_scores = 60 + np.random.randint(0, 15, size=12) + (student_id_last_two_digits % 5)\n",
        "\n",
        "# Print the generated exam_scores dataset\n",
        "print(\"Generated Exam Scores:\")\n",
        "print(exam_scores)"
      ],
      "execution_count": 10,
      "outputs": [
        {
          "output_type": "stream",
          "name": "stdout",
          "text": [
            "Generated Exam Scores:\n",
            "[73 70 73 70 68 73 63 64 65 74 76 75]\n"
          ]
        }
      ]
    },
    {
      "cell_type": "code",
      "source": [],
      "metadata": {
        "id": "7NHmp5CtjNm2"
      },
      "execution_count": null,
      "outputs": []
    },
    {
      "cell_type": "code",
      "metadata": {
        "colab": {
          "base_uri": "https://localhost:8080/"
        },
        "id": "37251e74",
        "outputId": "3b225e64-376d-45f1-c1fa-3d28568624c6"
      },
      "source": [
        "from scipy.stats import ttest_1samp\n",
        "\n",
        "# Define the hypothesized population mean\n",
        "hypothesized_mean = 65\n",
        "\n",
        "# Perform the one-sample t-test\n",
        "t_statistic, p_value = ttest_1samp(exam_scores, hypothesized_mean)\n",
        "\n",
        "# Calculate the sample mean\n",
        "sample_mean = np.mean(exam_scores)\n",
        "\n",
        "# Determine the degrees of freedom\n",
        "degrees_of_freedom = len(exam_scores) - 1\n",
        "\n",
        "# Print the results\n",
        "print(\"\\nOne-Sample t-Test Results:\")\n",
        "print(f\"Sample Mean: {sample_mean:.2f}\")\n",
        "print(f\"Hypothesized Mean: {hypothesized_mean}\")\n",
        "print(f\"t-statistic: {t_statistic:.4f}\")\n",
        "print(f\"Degrees of Freedom: {degrees_of_freedom}\")\n",
        "print(f\"P-value: {p_value:.4f}\")"
      ],
      "execution_count": 11,
      "outputs": [
        {
          "output_type": "stream",
          "name": "stdout",
          "text": [
            "\n",
            "One-Sample t-Test Results:\n",
            "Sample Mean: 70.33\n",
            "Hypothesized Mean: 65\n",
            "t-statistic: 4.1628\n",
            "Degrees of Freedom: 11\n",
            "P-value: 0.0016\n"
          ]
        }
      ]
    },
    {
      "cell_type": "code",
      "source": [
        "from scipy.stats import t\n",
        "\n",
        "# Calculate the standard error of the sample mean\n",
        "standard_error = np.std(exam_scores, ddof=1) / np.sqrt(len(exam_scores))\n",
        "\n",
        "# Compute the 95% confidence interval for the sample mean\n",
        "confidence_interval = t.interval(0.95, degrees_of_freedom, loc=sample_mean, scale=standard_error)\n",
        "\n",
        "# Print the calculated confidence interval with values formatted as integers\n",
        "print(f\"\\n95% Confidence Interval for the Sample Mean: ({int(confidence_interval[0])}, {int(confidence_interval[1])})\")"
      ],
      "metadata": {
        "colab": {
          "base_uri": "https://localhost:8080/"
        },
        "id": "a0A-vgONlCQp",
        "outputId": "4cd02748-0702-4483-9444-0bb2be1c5019"
      },
      "execution_count": 12,
      "outputs": [
        {
          "output_type": "stream",
          "name": "stdout",
          "text": [
            "\n",
            "95% Confidence Interval for the Sample Mean: (67, 73)\n"
          ]
        }
      ]
    },
    {
      "cell_type": "code",
      "source": [
        "# Compare the calculated p-value with the alpha level of 0.05.\n",
        "alpha = 0.05\n",
        "\n",
        "print(f\"\\nAlpha level: {alpha}\")\n",
        "print(f\"P-value: {p_value:.4f}\")\n",
        "\n",
        "# 3. Make a decision based on the comparison\n",
        "if p_value < alpha:\n",
        "    print(f'Reject the null hypothesis. The average score is significantly different from {hypothesized_mean:.2f}.')\n",
        "else:\n",
        "    print(f'Fail to reject the null hypothesis. The average score is not significantly different from {hypothesized_mean:.2f}.')"
      ],
      "metadata": {
        "colab": {
          "base_uri": "https://localhost:8080/"
        },
        "id": "oaNZJ5iQlIPb",
        "outputId": "8ce97471-4968-465d-9933-5d0cd1ce9279"
      },
      "execution_count": 13,
      "outputs": [
        {
          "output_type": "stream",
          "name": "stdout",
          "text": [
            "\n",
            "Alpha level: 0.05\n",
            "P-value: 0.0016\n",
            "Reject the null hypothesis. The average score is significantly different from 65.00.\n"
          ]
        }
      ]
    },
    {
      "cell_type": "code",
      "source": [
        "import matplotlib.pyplot as plt\n",
        "\n",
        "# Step 6: Visualize the data\n",
        "plt.figure()\n",
        "plt.bar(1, np.mean(exam_scores), color=\"skyblue\", label='Sample Mean')\n",
        "plt.errorbar(1, np.mean(exam_scores), yerr=np.std(exam_scores), fmt='k', linewidth=1.5)\n",
        "plt.axhline(y=hypothesized_mean, color='r', linestyle='--', linewidth=1.5, label='Hypothesized Mean')\n",
        "plt.title('Sample Mean vs Hypothesized Mean')\n",
        "plt.xlim(0.5,1.5)\n",
        "plt.xlabel('Sample')\n",
        "plt.ylabel('Mean Value')\n",
        "plt.legend()\n",
        "plt.grid(True)\n",
        "plt.show()"
      ],
      "metadata": {
        "colab": {
          "base_uri": "https://localhost:8080/",
          "height": 472
        },
        "id": "2Xfphaoqle4s",
        "outputId": "cc839a4c-afb1-451c-9f0c-5d48d4a4ce99"
      },
      "execution_count": 14,
      "outputs": [
        {
          "output_type": "display_data",
          "data": {
            "text/plain": [
              "<Figure size 640x480 with 1 Axes>"
            ],
            "image/png": "[encoded data removed]"
          },
          "metadata": {}
        }
      ]
    }
  ]
}